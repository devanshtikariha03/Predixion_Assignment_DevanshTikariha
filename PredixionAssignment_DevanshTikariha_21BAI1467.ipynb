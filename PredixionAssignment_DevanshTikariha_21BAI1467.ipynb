{
  "nbformat": 4,
  "nbformat_minor": 0,
  "metadata": {
    "colab": {
      "provenance": []
    },
    "kernelspec": {
      "name": "python3",
      "display_name": "Python 3"
    },
    "language_info": {
      "name": "python"
    }
  },
  "cells": [
    {
      "cell_type": "markdown",
      "source": [
        "# Import Libraries"
      ],
      "metadata": {
        "id": "quNzWxGWSCDh"
      }
    },
    {
      "cell_type": "code",
      "source": [
        "import re\n",
        "from collections import defaultdict\n"
      ],
      "metadata": {
        "id": "ANiMUHQXRxy3"
      },
      "execution_count": 2,
      "outputs": []
    },
    {
      "cell_type": "markdown",
      "source": [
        "# Parse Conversation Function"
      ],
      "metadata": {
        "id": "Vftwz_bxSIfx"
      }
    },
    {
      "cell_type": "code",
      "source": [
        "def parse_conversation(conversation_text):\n",
        "    \"\"\"\n",
        "    Parses the conversation into dialogues with metadata.\n",
        "\n",
        "    Args:\n",
        "        conversation_text (str): The conversation text.\n",
        "\n",
        "    Returns:\n",
        "        list: A list of dictionaries containing dialogue number, role, and dialogue text.\n",
        "    \"\"\"\n",
        "    dialogue_list = []\n",
        "    # Adjusted role patterns to accurately capture roles\n",
        "    role_patterns = {\n",
        "        'Recovery Agent': r'RA:',\n",
        "        'Borrower': r'B:'\n",
        "    }\n",
        "    # Split the conversation text based on role identifiers\n",
        "    potential_dialogues = re.split(r'(RA:|B:)', conversation_text.strip())\n",
        "    dialogue_number = 1\n",
        "    i = 1\n",
        "    while i < len(potential_dialogues):\n",
        "        role_indicator = potential_dialogues[i]\n",
        "        text = potential_dialogues[i + 1].strip()\n",
        "        role = 'Recovery Agent' if role_indicator == 'RA:' else 'Borrower'\n",
        "        dialogue_data = {\n",
        "            'dialogue_number': dialogue_number,\n",
        "            'role': role,\n",
        "            'dialogue': text,\n",
        "            'themes': [],\n",
        "            'sentiments': []\n",
        "        }\n",
        "        dialogue_list.append(dialogue_data)\n",
        "        dialogue_number += 1\n",
        "        i += 2  # Move to the next role indicator\n",
        "    return dialogue_list\n"
      ],
      "metadata": {
        "id": "dJA1G4L4Ryb-"
      },
      "execution_count": 3,
      "outputs": []
    },
    {
      "cell_type": "markdown",
      "source": [
        "# Tokenize Text Function"
      ],
      "metadata": {
        "id": "IDv5U8ZISJLx"
      }
    },
    {
      "cell_type": "code",
      "source": [
        "def tokenize_text(text):\n",
        "    \"\"\"\n",
        "    Tokenizes the text into words.\n",
        "\n",
        "    Args:\n",
        "        text (str): The text to tokenize.\n",
        "\n",
        "    Returns:\n",
        "        list: A list of tokens.\n",
        "    \"\"\"\n",
        "    tokens = re.findall(r'\\b\\w+\\b', text)\n",
        "    return tokens\n"
      ],
      "metadata": {
        "id": "_ohV2WltR0i_"
      },
      "execution_count": 4,
      "outputs": []
    },
    {
      "cell_type": "markdown",
      "source": [
        "# Analyze Dialogues Function\n",
        "\n"
      ],
      "metadata": {
        "id": "cNRsQrq1SJwp"
      }
    },
    {
      "cell_type": "code",
      "source": [
        "def analyze_dialogues(dialogues):\n",
        "    \"\"\"\n",
        "    Performs thematic and sentiment analysis on the dialogues.\n",
        "\n",
        "    Args:\n",
        "        dialogues (list): List of dialogues.\n",
        "\n",
        "    Returns:\n",
        "        list: Updated list of dialogues with themes and sentiments.\n",
        "    \"\"\"\n",
        "    themes = {\n",
        "        'Financial Difficulty': ['नौकरी', 'पैसा', 'समस्या', 'दिक्कत', 'मुश्किल', 'आर्थिक', 'चुनौती', 'पैसे नहीं'],\n",
        "        'Payment Issue': ['EMI', 'भुगतान', 'लोन', 'किस्त', 'बकाया', 'देय', 'बकाया'],\n",
        "        'Negotiation': ['समय', 'प्लान', 'कोशिश', 'समझौता', 'प्रस्ताव', 'बातचीत', 'आधा', 'राहत', 'देरी'],\n",
        "        'Empathy': ['बुरा हुआ', 'दुर्भाग्य', 'अफसोस', 'समझते हैं', 'सहानुभूति', 'दुख'],\n",
        "        'Professional Conduct': ['जरूरी', 'महत्वपूर्ण', 'पालन', 'समय पर', 'नियम', 'शर्तें', 'अनुशासन', 'समझना होगा']\n",
        "    }\n",
        "\n",
        "    sentiments = {\n",
        "        'Empathetic': ['बुरा हुआ', 'समझते हैं', 'दुख', 'अफसोस'],\n",
        "        'Firm': ['समझना होगा', 'जरूरी है', 'समय पर करना', 'बहुत जरूरी है'],\n",
        "        'Distressed': ['दिक्कत', 'पैसे नहीं', 'मुश्किल', 'नौकरी चली गई'],\n",
        "        'Hopeful': ['उम्मीद', 'कोशिश करूंगा', 'मिल जाएगा'],\n",
        "        'Cooperative': ['ठीक रहेगा', 'पालन करूंगा', 'धन्यवाद', 'करूंगा']\n",
        "    }\n",
        "\n",
        "    for dialogue in dialogues:\n",
        "        text = dialogue['dialogue']\n",
        "        tokens = tokenize_text(text)\n",
        "        # Thematic analysis\n",
        "        for theme, keywords in themes.items():\n",
        "            if any(keyword in text for keyword in keywords):\n",
        "                dialogue['themes'].append(theme)\n",
        "        # Sentiment analysis\n",
        "        for sentiment, keywords in sentiments.items():\n",
        "            if any(keyword in text for keyword in keywords):\n",
        "                dialogue['sentiments'].append(sentiment)\n",
        "    return dialogues\n"
      ],
      "metadata": {
        "id": "sPkd_U35R35Y"
      },
      "execution_count": 5,
      "outputs": []
    },
    {
      "cell_type": "markdown",
      "source": [
        "# Extract Insights Function"
      ],
      "metadata": {
        "id": "Yk8ZiY1jSKrZ"
      }
    },
    {
      "cell_type": "code",
      "source": [
        "def extract_insights(dialogues):\n",
        "    \"\"\"\n",
        "    Extracts key actions, communication styles, and negotiation strategies.\n",
        "\n",
        "    Args:\n",
        "        dialogues (list): List of dialogues with themes and sentiments.\n",
        "\n",
        "    Returns:\n",
        "        dict: Insights including actions, communication styles, and negotiation strategies.\n",
        "    \"\"\"\n",
        "    insights = {\n",
        "        'actions': defaultdict(set),\n",
        "        'communication_styles': {},\n",
        "        'negotiation_strategies': {}\n",
        "    }\n",
        "\n",
        "    for dialogue in dialogues:\n",
        "        role = dialogue['role']\n",
        "        text = dialogue['dialogue']\n",
        "        themes = dialogue['themes']\n",
        "        sentiments = dialogue['sentiments']\n",
        "\n",
        "        # Extract actions\n",
        "        if 'Payment Issue' in themes and role == 'Recovery Agent':\n",
        "            if 'SMS' in text or 'संदेश' in text:\n",
        "                insights['actions'][role].add('Send SMS with payment details.')\n",
        "            if 'भुगतान' in text and ('करें' in text or 'करेगा' in text):\n",
        "                insights['actions'][role].add('Request payment from the borrower.')\n",
        "        if 'Negotiation' in themes and role == 'Borrower':\n",
        "            insights['actions'][role].add('Propose a modified payment plan.')\n",
        "        if 'Payment Issue' in themes and role == 'Borrower':\n",
        "            insights['actions'][role].add('Agree to make payments as per the new plan.')\n",
        "\n",
        "        # Communication styles\n",
        "        if role not in insights['communication_styles']:\n",
        "            if 'Empathetic' in sentiments:\n",
        "                insights['communication_styles'][role] = 'Uses empathetic communication.'\n",
        "            elif 'Firm' in sentiments:\n",
        "                insights['communication_styles'][role] = 'Maintains a firm tone.'\n",
        "            else:\n",
        "                insights['communication_styles'][role] = 'Communicates openly.'\n",
        "\n",
        "        # Negotiation strategies\n",
        "        if role not in insights['negotiation_strategies']:\n",
        "            if 'Negotiation' in themes:\n",
        "                insights['negotiation_strategies'][role] = 'Engages in negotiation.'\n",
        "            elif 'Firm' in sentiments:\n",
        "                insights['negotiation_strategies'][role] = 'Sets clear expectations.'\n",
        "            else:\n",
        "                insights['negotiation_strategies'][role] = 'Standard communication.'\n",
        "\n",
        "    # Convert action sets to lists\n",
        "    for role in insights['actions']:\n",
        "        insights['actions'][role] = list(insights['actions'][role])\n",
        "\n",
        "    return insights\n"
      ],
      "metadata": {
        "id": "rwjJRblYR6xY"
      },
      "execution_count": 6,
      "outputs": []
    },
    {
      "cell_type": "markdown",
      "source": [
        "# Generate Report Function"
      ],
      "metadata": {
        "id": "TD95bUWHSLOS"
      }
    },
    {
      "cell_type": "code",
      "source": [
        "def generate_report(dialogues, insights):\n",
        "    \"\"\"\n",
        "    Generates and prints the analysis report.\n",
        "\n",
        "    Args:\n",
        "        dialogues (list): List of dialogues with themes and sentiments.\n",
        "        insights (dict): Insights extracted from the dialogues.\n",
        "    \"\"\"\n",
        "    summary_sentences = set()\n",
        "    for dialogue in dialogues:\n",
        "        role = dialogue['role']\n",
        "        themes = dialogue['themes']\n",
        "        if 'Financial Difficulty' in themes and role == 'Borrower':\n",
        "            summary_sentences.add('The borrower explains financial difficulties due to job loss.')\n",
        "        if 'Payment Issue' in themes and role == 'Recovery Agent':\n",
        "            summary_sentences.add('The recovery agent discusses the missed EMI payment.')\n",
        "        if 'Negotiation' in themes:\n",
        "            summary_sentences.add('Negotiation occurs regarding payment amounts and deadlines.')\n",
        "        if 'Empathy' in themes and role == 'Recovery Agent':\n",
        "            summary_sentences.add('The agent shows empathy towards the borrower.')\n",
        "\n",
        "    summary = '. '.join(summary_sentences) + '.'\n",
        "    summary_words = summary.split()\n",
        "    if len(summary_words) > 100:\n",
        "        summary = ' '.join(summary_words[:100]) + '.'\n",
        "\n",
        "    # Key actions\n",
        "    key_actions = []\n",
        "    for role, actions_list in insights['actions'].items():\n",
        "        for action in actions_list:\n",
        "            key_actions.append(f\"{role}: {action}\")\n",
        "    key_actions = key_actions[:5]\n",
        "\n",
        "    # Sentiment Analysis\n",
        "    agent_sentiments = ', '.join(set(sent for d in dialogues if d['role'] == 'Recovery Agent' for sent in d['sentiments']))\n",
        "    borrower_sentiments = ', '.join(set(sent for d in dialogues if d['role'] == 'Borrower' for sent in d['sentiments']))\n",
        "\n",
        "    agent_tone = f\"The recovery agent's tone is {agent_sentiments}.\"\n",
        "    borrower_tone = f\"The borrower's tone is {borrower_sentiments}.\"\n",
        "\n",
        "    # Additional insights\n",
        "    communication_styles = insights['communication_styles']\n",
        "    negotiation_strategies = insights['negotiation_strategies']\n",
        "\n",
        "    # Print the report\n",
        "    print(\"### 1. Summary of the Conversation\\n\")\n",
        "    print(summary)\n",
        "    print(f\"\\nWord count: {len(summary_words)} words\")\n",
        "    print(\"\\n### 2. Key Actions and Next Steps\\n\")\n",
        "    for idx, action in enumerate(key_actions, 1):\n",
        "        print(f\"{idx}. {action}\")\n",
        "    print(\"\\n### 3. Sentiment Analysis\\n\")\n",
        "    print(\"**Recovery Agent's Tone:**\")\n",
        "    print(agent_tone)\n",
        "    print(\"\\n**Borrower's Tone:**\")\n",
        "    print(borrower_tone)\n",
        "    print(\"\\n### 4. Additional Insights\\n\")\n",
        "    print(\"#### Communication Styles\")\n",
        "    for role, style in communication_styles.items():\n",
        "        print(f\"- **{role}:** {style}\")\n",
        "    print(\"\\n#### Negotiation Strategies\")\n",
        "    for role, strategy in negotiation_strategies.items():\n",
        "        print(f\"- **{role}:** {strategy}\")\n",
        "    print()\n"
      ],
      "metadata": {
        "id": "Su-bLNhPR8z_"
      },
      "execution_count": 7,
      "outputs": []
    },
    {
      "cell_type": "markdown",
      "source": [
        "# Main Function"
      ],
      "metadata": {
        "id": "aWQmvq1nSMAx"
      }
    },
    {
      "cell_type": "code",
      "source": [
        "def main():\n",
        "    \"\"\"\n",
        "    Main function to execute the analysis.\n",
        "    \"\"\"\n",
        "    # Input the conversation text\n",
        "    print(\"Please paste the conversation text below (end input with an empty line):\\n\")\n",
        "    conversation_lines = []\n",
        "    while True:\n",
        "        try:\n",
        "            line = input()\n",
        "            if line.strip() == '':\n",
        "                break\n",
        "            conversation_lines.append(line)\n",
        "        except EOFError:\n",
        "            break\n",
        "\n",
        "    conversation_text = ' '.join(conversation_lines)\n",
        "\n",
        "    dialogues = parse_conversation(conversation_text)\n",
        "    dialogues = analyze_dialogues(dialogues)\n",
        "    insights = extract_insights(dialogues)\n",
        "    generate_report(dialogues, insights)\n",
        "\n",
        "if __name__ == \"__main__\":\n",
        "    main()\n"
      ],
      "metadata": {
        "colab": {
          "base_uri": "https://localhost:8080/"
        },
        "id": "Z_J3djCfR-9g",
        "outputId": "0f1ab687-b8a0-42ca-de96-c660f79ad4ac"
      },
      "execution_count": 8,
      "outputs": [
        {
          "output_type": "stream",
          "name": "stdout",
          "text": [
            "Please paste the conversation text below (end input with an empty line):\n",
            "\n",
            "RA: नमस्ते मिस्टर गुप्ता, मैं पीक्यूआर फाइनेंस से बोल रहा हूं। आपके लोन के बारे में कुछ चर्चा करनी थी। B: हाँ, बताइए। क्या समस्या है? RA: आपकी पिछली EMI इस महीने नहीं आई है। क्या कोई दिक्कत है? B: जी, मेरी दुकान में आग लग गई थी, इसलिए व्यापार में नुकसान हुआ है। RA: ओह, यह सुनकर बहुत अफसोस हुआ। क्या आप हमें बता सकते हैं कि आप कब तक भुगतान कर पाएंगे? B: मैं अभी स्थिति संभालने की कोशिश कर रहा हूं। क्या मुझे एक महीने का समय मिल सकता है? RA: हम आपकी स्थिति समझते हैं। क्या आप अगले महीने तक भुगतान कर पाएंगे? B: जी हाँ, मैं अगले महीने तक पूरी राशि चुका दूंगा। RA: ठीक है, मैं आपके खाते में नोट कर देता हूँ। कृपया समय पर भुगतान करें। B: धन्यवाद आपकी समझदारी के लिए। RA: कोई बात नहीं। अगर आपको और सहायता चाहिए तो हमें बताएं। B: जरूर, धन्यवाद।\n",
            "\n",
            "### 1. Summary of the Conversation\n",
            "\n",
            "The borrower explains financial difficulties due to job loss.. The agent shows empathy towards the borrower.. Negotiation occurs regarding payment amounts and deadlines.. The recovery agent discusses the missed EMI payment..\n",
            "\n",
            "Word count: 31 words\n",
            "\n",
            "### 2. Key Actions and Next Steps\n",
            "\n",
            "1. Borrower: Propose a modified payment plan.\n",
            "2. Recovery Agent: Request payment from the borrower.\n",
            "\n",
            "### 3. Sentiment Analysis\n",
            "\n",
            "**Recovery Agent's Tone:**\n",
            "The recovery agent's tone is Distressed, Empathetic.\n",
            "\n",
            "**Borrower's Tone:**\n",
            "The borrower's tone is Cooperative.\n",
            "\n",
            "### 4. Additional Insights\n",
            "\n",
            "#### Communication Styles\n",
            "- **Recovery Agent:** Communicates openly.\n",
            "- **Borrower:** Communicates openly.\n",
            "\n",
            "#### Negotiation Strategies\n",
            "- **Recovery Agent:** Standard communication.\n",
            "- **Borrower:** Standard communication.\n",
            "\n"
          ]
        }
      ]
    }
  ]
}